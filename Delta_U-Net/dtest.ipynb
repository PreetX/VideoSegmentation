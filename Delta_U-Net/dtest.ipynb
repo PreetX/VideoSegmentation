{
 "cells": [
  {
   "cell_type": "code",
   "execution_count": null,
   "metadata": {},
   "outputs": [],
   "source": [
    "from model.u2net_delta import U2NET\n",
    "# from torchsummary import summary\n",
    "import torch, os, cv2\n",
    "from typing import List\n",
    "from cv2 import Mat\n",
    "from tqdm.notebook import tqdm\n",
    "from torch.utils.data import DataLoader, Dataset\n",
    "from tqdm.notebook import tqdm\n",
    "from torchvision import transforms\n",
    "from data_loader import RescaleT\n",
    "from data_loader import ToTensor\n",
    "from data_loader import ToTensorLab\n",
    "from u2net_test import save_output, normPRED"
   ]
  },
  {
   "cell_type": "code",
   "execution_count": null,
   "metadata": {},
   "outputs": [],
   "source": [
    "model = U2NET().to('cuda')\n",
    "model.load_state_dict(torch.load('saved_models/u2net/u2net.pth'))\n",
    "model.process_filters()"
   ]
  },
  {
   "cell_type": "code",
   "execution_count": null,
   "metadata": {},
   "outputs": [],
   "source": [
    "class DataFrames(Dataset):\n",
    "    def __init__(self, dir: str, paths: List[str], transform=None, target_transform=None) -> None:\n",
    "        super().__init__()\n",
    "        self.img_paths: List[str] = paths\n",
    "        self.dir: str = dir\n",
    "        self.transform = transform\n",
    "        self.target_transform = target_transform\n",
    "\n",
    "    def __len__(self) -> int:\n",
    "        return len(self.img_paths)\n",
    "\n",
    "    def __getitem__(self, idx: int) -> Mat:\n",
    "        img_path = os.path.join(self.dir, self.img_paths[idx])\n",
    "        image = cv2.imread(img_path)\n",
    "        if self.transform:\n",
    "            image = self.transform(image)\n",
    "        if self.target_transform:\n",
    "            label = self.target_transform(label)\n",
    "        return image"
   ]
  },
  {
   "cell_type": "code",
   "execution_count": null,
   "metadata": {},
   "outputs": [],
   "source": [
    "paths = os.listdir('test_data')\n",
    "dataset = DataFrames('test_data', paths, transform=transforms.Compose([RescaleT(320), ToTensorLab(flag=0)]))\n",
    "dataloader = DataLoader(dataset, 1)"
   ]
  },
  {
   "cell_type": "code",
   "execution_count": null,
   "metadata": {},
   "outputs": [],
   "source": [
    "for i, img in tqdm(enumerate(dataloader)):\n",
    "    img = img.to('cuda').float()\n",
    "    d1,d2,d3,d4,d5,d6,d7= model(img)\n",
    "    # normalization\n",
    "    pred = d1[:,0,:,:]\n",
    "    pred = normPRED(pred)\n",
    "\n",
    "    # save results to test_results folder\n",
    "    if not os.path.exists('output'):\n",
    "        os.makedirs('output', exist_ok=True)\n",
    "    save_output(paths[i], pred, 'output')\n",
    "\n",
    "    del d1,d2,d3,d4,d5,d6,d7"
   ]
  },
  {
   "cell_type": "code",
   "execution_count": null,
   "metadata": {},
   "outputs": [],
   "source": [
    "t = torch.rand((1, 3, 144, 144)).to('cuda')\n",
    "for i in tqdm(range(20)):\n",
    "    out = model(t)"
   ]
  }
 ],
 "metadata": {
  "kernelspec": {
   "display_name": "Python 3.8.10 ('dunet': venv)",
   "language": "python",
   "name": "python3"
  },
  "language_info": {
   "codemirror_mode": {
    "name": "ipython",
    "version": 3
   },
   "file_extension": ".py",
   "mimetype": "text/x-python",
   "name": "python",
   "nbconvert_exporter": "python",
   "pygments_lexer": "ipython3",
   "version": "3.8.10"
  },
  "orig_nbformat": 4,
  "vscode": {
   "interpreter": {
    "hash": "14e17c51d5d987c2c0dbf273fd2a0664728d602680e18b964583768145979584"
   }
  }
 },
 "nbformat": 4,
 "nbformat_minor": 2
}
